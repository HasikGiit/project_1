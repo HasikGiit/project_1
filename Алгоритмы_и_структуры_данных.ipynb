{
  "nbformat": 4,
  "nbformat_minor": 0,
  "metadata": {
    "colab": {
      "provenance": [],
      "toc_visible": true,
      "authorship_tag": "ABX9TyMwvhkLqeNfcpuSNGohl5ea",
      "include_colab_link": true
    },
    "kernelspec": {
      "name": "python3",
      "display_name": "Python 3"
    },
    "language_info": {
      "name": "python"
    }
  },
  "cells": [
    {
      "cell_type": "markdown",
      "metadata": {
        "id": "view-in-github",
        "colab_type": "text"
      },
      "source": [
        "<a href=\"https://colab.research.google.com/github/HasikGiit/project_1/blob/main/%D0%90%D0%BB%D0%B3%D0%BE%D1%80%D0%B8%D1%82%D0%BC%D1%8B_%D0%B8_%D1%81%D1%82%D1%80%D1%83%D0%BA%D1%82%D1%83%D1%80%D1%8B_%D0%B4%D0%B0%D0%BD%D0%BD%D1%8B%D1%85.ipynb\" target=\"_parent\"><img src=\"https://colab.research.google.com/assets/colab-badge.svg\" alt=\"Open In Colab\"/></a>"
      ]
    },
    {
      "cell_type": "markdown",
      "source": [
        "# Квадратичная сортировка\n"
      ],
      "metadata": {
        "id": "juPw8UDinih3"
      }
    },
    {
      "cell_type": "code",
      "execution_count": null,
      "metadata": {
        "id": "DGENZpz9ickI",
        "colab": {
          "base_uri": "https://localhost:8080/"
        },
        "outputId": "b59aebaf-1d63-4c36-fc39-fb44c266b2ef"
      },
      "outputs": [
        {
          "output_type": "stream",
          "name": "stdout",
          "text": [
            "[3, 5, 1, 1, 4]\n"
          ]
        }
      ],
      "source": [
        "import random\n",
        "\n",
        "def gen_random_list(number_el):\n",
        "  \"\"\"generatrion list with random elements\"\"\"\n",
        "  list_1 = []\n",
        "  for i in range(number_el):\n",
        "    list_1.append(random.randint(0, number_el))\n",
        "  return list_1\n",
        "\n",
        "n = 5\n",
        "x = gen_random_list(n)\n",
        "print(x)"
      ]
    },
    {
      "cell_type": "code",
      "source": [
        "def sort_selection(A):\n",
        "  \"\"\"sorting lists using the selection method\"\"\"\n",
        "  for i in range(len(A)):\n",
        "    for j in range(i+1, len(A)):\n",
        "      if A[i] >= A[j]:\n",
        "        A[i], A[j] = A[j], A[i]\n",
        "\n",
        "sort_selection(x)"
      ],
      "metadata": {
        "id": "7BP2YWrmv2sS"
      },
      "execution_count": null,
      "outputs": []
    },
    {
      "cell_type": "code",
      "source": [
        "def sort_bubble(A):\n",
        "  \"\"\"sorting lists using the bubble method\"\"\"\n",
        "  for i in range(len(A)-1):\n",
        "    for j in range(len(A)-1-i):\n",
        "      if A[j] > A[j+1]:\n",
        "        A[j], A[j+1] = A[j+1], A[j]\n",
        "\n",
        "sort_bubble(x)"
      ],
      "metadata": {
        "id": "ulBiYxPXnAu1"
      },
      "execution_count": null,
      "outputs": []
    },
    {
      "cell_type": "code",
      "source": [
        "def sort_insert(A):\n",
        "  \"\"\"sorting lists using the insert method\"\"\"\n",
        "  for i in range(1, len(A)):\n",
        "    current = A[i]\n",
        "    j = i - 1\n",
        "    while (j >= 0 and current < A[j]):\n",
        "            A[j + 1] = A[j]\n",
        "            j = j - 1\n",
        "    A[j + 1] = current\n",
        "\n",
        "sort_insert(x)"
      ],
      "metadata": {
        "id": "TFuGqZnnqvki"
      },
      "execution_count": null,
      "outputs": []
    },
    {
      "cell_type": "code",
      "source": [
        "M = [[random.randint(0, 10) for i in range(5)] for j in range(5)]\n",
        "\n",
        "def printMatrix(M):\n",
        "  for row in M:\n",
        "    for e in row:\n",
        "      print(e, end='\\t')\n",
        "    print()\n",
        "\n",
        "printMatrix(M)"
      ],
      "metadata": {
        "id": "IqclBQSCvP4B",
        "colab": {
          "base_uri": "https://localhost:8080/"
        },
        "outputId": "3e56740c-e6e4-4689-b695-77721cd4cb8e"
      },
      "execution_count": null,
      "outputs": [
        {
          "output_type": "stream",
          "name": "stdout",
          "text": [
            "9\t6\t1\t0\t1\t\n",
            "9\t5\t1\t4\t0\t\n",
            "2\t1\t7\t9\t3\t\n",
            "2\t1\t10\t4\t5\t\n",
            "1\t7\t7\t8\t10\t\n"
          ]
        }
      ]
    },
    {
      "cell_type": "markdown",
      "source": [
        "# Рекурсия\n"
      ],
      "metadata": {
        "id": "ybxAtQolnRIf"
      }
    },
    {
      "cell_type": "code",
      "source": [
        "def factorial(n):\n",
        "  if n <= 1: return 1\n",
        "  print(f\"in {n = }\")\n",
        "  result = n*factorial(n - 1)\n",
        "  print(f\"out {result = }\")\n",
        "  return result\n",
        "\n",
        "print(factorial(5))"
      ],
      "metadata": {
        "id": "s9k2uTKOnTt5",
        "colab": {
          "base_uri": "https://localhost:8080/"
        },
        "outputId": "20d5ede5-a690-46dd-efba-a8f9ec496aa8"
      },
      "execution_count": null,
      "outputs": [
        {
          "output_type": "stream",
          "name": "stdout",
          "text": [
            "in n = 5\n",
            "in n = 4\n",
            "in n = 3\n",
            "in n = 2\n",
            "out result = 2\n",
            "out result = 6\n",
            "out result = 24\n",
            "out result = 120\n",
            "120\n"
          ]
        }
      ]
    },
    {
      "cell_type": "code",
      "source": [
        "def gcd(a, b):\n",
        "    if (b == 0):\n",
        "        return a\n",
        "    else:\n",
        "        return gcd(b, a % b)\n",
        "a = 25\n",
        "b = 15\n",
        "GCD = gcd(a, b)\n",
        "print(\"GCD:\", GCD)"
      ],
      "metadata": {
        "colab": {
          "base_uri": "https://localhost:8080/"
        },
        "id": "OS9aGvo1Hz6D",
        "outputId": "526d07bc-c50e-4786-89a8-7791bf946ce0"
      },
      "execution_count": null,
      "outputs": [
        {
          "output_type": "stream",
          "name": "stdout",
          "text": [
            "GCD: 5\n"
          ]
        }
      ]
    },
    {
      "cell_type": "markdown",
      "source": [
        "# Бинарный поиск"
      ],
      "metadata": {
        "id": "2R0_Q3PgHWes"
      }
    },
    {
      "cell_type": "code",
      "source": [
        "import random\n",
        "from random import randint\n",
        "\n",
        "def binary_search(a, value):\n",
        "  low = 0\n",
        "  high = len(a) - 1\n",
        "  mid = len(a) // 2\n",
        "\n",
        "  while a[mid] != value and low <= high:\n",
        "      if value > a[mid]:\n",
        "          low = mid + 1\n",
        "      else:\n",
        "          high = mid - 1\n",
        "      mid = (low + high) // 2\n",
        "\n",
        "  if low > high:\n",
        "      return -1\n",
        "  else:\n",
        "      return mid\n",
        "\n",
        "\n",
        "M = [random.randint(0, 10) for i in range(10)]\n",
        "M.sort()\n",
        "print(M)\n",
        "\n",
        "search_value = int(input())\n",
        "binary_search(M, search_value)"
      ],
      "metadata": {
        "id": "FACJ29bhzjpg",
        "colab": {
          "base_uri": "https://localhost:8080/"
        },
        "outputId": "e57a43aa-43de-4fe6-b573-012bd0ecbdf2"
      },
      "execution_count": null,
      "outputs": [
        {
          "name": "stdout",
          "output_type": "stream",
          "text": [
            "[1, 2, 2, 2, 4, 7, 7, 8, 10, 10]\n",
            "2\n"
          ]
        },
        {
          "output_type": "execute_result",
          "data": {
            "text/plain": [
              "2"
            ]
          },
          "metadata": {},
          "execution_count": 3
        }
      ]
    },
    {
      "cell_type": "code",
      "source": [
        "import random\n",
        "from random import randint\n",
        "\n",
        "def rec_binary_search(a, value, low, high):\n",
        "  if low > high:\n",
        "      return -1\n",
        "\n",
        "  mid = (low + high) // 2\n",
        "\n",
        "  if a[mid] == value:\n",
        "    return mid\n",
        "  elif a[mid] > value:\n",
        "    return rec_binary_search(a, value, low, mid - 1)\n",
        "  else:\n",
        "    return rec_binary_search(a, value, mid + 1, high)\n",
        "\n",
        "def binary_search(a, value, low, high):\n",
        "\n",
        "  our_index = rec_binary_search(a, value, low, high)\n",
        "  x = our_index\n",
        "  y = our_index\n",
        "  if our_index != -1:\n",
        "    for i in range(our_index, len(M)):\n",
        "      if M[our_index] == M[i]:\n",
        "        y = i\n",
        "      else:\n",
        "        break\n",
        "    for i in range(our_index - 1, 0, -1):\n",
        "      if M[our_index] == M[i]:\n",
        "        x = i\n",
        "      else:\n",
        "        break\n",
        "  else:\n",
        "    return -1, 1\n",
        "  return x, y+1\n",
        "\n",
        "M = [random.randint(0, 10) for i in range(10)]\n",
        "M.sort()\n",
        "print(M)\n",
        "search_value = int(input())\n",
        "\n",
        "print(binary_search(M, search_value, 0, len(M) - 1))"
      ],
      "metadata": {
        "id": "X6_V2K7KuaTQ",
        "colab": {
          "base_uri": "https://localhost:8080/"
        },
        "outputId": "be718163-710f-4217-bb40-ecaf2aba1222"
      },
      "execution_count": null,
      "outputs": [
        {
          "output_type": "stream",
          "name": "stdout",
          "text": [
            "[0, 0, 0, 6, 6, 7, 8, 9, 9, 9]\n",
            "7\n",
            "(5, 6)\n"
          ]
        }
      ]
    },
    {
      "cell_type": "code",
      "source": [
        "M[5:6]"
      ],
      "metadata": {
        "colab": {
          "base_uri": "https://localhost:8080/"
        },
        "id": "SXIeo3s18KAF",
        "outputId": "d9fbb9fe-ca8e-495c-91ba-67c25bbd3367"
      },
      "execution_count": null,
      "outputs": [
        {
          "output_type": "execute_result",
          "data": {
            "text/plain": [
              "[7]"
            ]
          },
          "metadata": {},
          "execution_count": 46
        }
      ]
    },
    {
      "cell_type": "code",
      "source": [
        "def merging_lists(L1, L2):\n",
        "  m_list = []\n",
        "  i = 0\n",
        "  j = 0\n",
        "  while i < len(L1) and j < len(L2):\n",
        "    if L1[i] < L2[j]:\n",
        "      m_list.append(L1[i])\n",
        "      i += 1\n",
        "    else:\n",
        "      m_list.append(L2[j])\n",
        "      j += 1\n",
        "  if i == len(L1):\n",
        "    m_list += L2[j:]\n",
        "  else:\n",
        "    m_list += L1[i:]\n",
        "  return m_list\n",
        "\n",
        "def merge_sorting(arr):\n",
        "  if len(arr) <= 1:\n",
        "    return arr\n",
        "  mid = len(arr) // 2\n",
        "  left = merge_sorting(arr[:mid])\n",
        "  right = merge_sorting(arr[mid:])\n",
        "  return merging_lists(left, right)\n",
        "\n",
        "L1 = [random.randint(0, 10) for i in range(10)]\n",
        "# L2 = [random.randint(0, 10) for i in range(10)]\n",
        "# L1.sort()\n",
        "# L2.sort()\n",
        "print(L1)\n",
        "# print(L2)\n",
        "# print(merging_lists(L1, L2))\n",
        "print(merge_sorting(L1))"
      ],
      "metadata": {
        "colab": {
          "base_uri": "https://localhost:8080/"
        },
        "id": "fvr-Mly_Aihw",
        "outputId": "990bed91-f1f1-409b-fcc8-f9ada9615e6d"
      },
      "execution_count": null,
      "outputs": [
        {
          "output_type": "stream",
          "name": "stdout",
          "text": [
            "[5, 5, 7, 4, 9, 3, 0, 1, 2, 10]\n",
            "[0, 1, 2, 3, 4, 5, 5, 7, 9, 10]\n"
          ]
        }
      ]
    },
    {
      "cell_type": "markdown",
      "source": [
        "# Класс Queue"
      ],
      "metadata": {
        "id": "6pfCIY6NMx6d"
      }
    },
    {
      "cell_type": "code",
      "source": [
        "class Queue:\n",
        "  def __init__(self, volume):\n",
        "    self.__L = [0] * volume\n",
        "    self.start = 0\n",
        "    self.end = 0\n",
        "    self.length = 0\n",
        "  def enqueue(self, V):\n",
        "\n",
        "  def dequeue(self):\n",
        "    return\n"
      ],
      "metadata": {
        "id": "W1QaoFnSM6KO"
      },
      "execution_count": null,
      "outputs": []
    }
  ]
}